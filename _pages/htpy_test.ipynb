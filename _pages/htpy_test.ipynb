{
 "cells": [
  {
   "cell_type": "code",
   "execution_count": null,
   "id": "6c02c6fa",
   "metadata": {},
   "outputs": [],
   "source": [
    "print(\"hi\")"
   ]
  },
  {
   "cell_type": "code",
   "execution_count": 1,
   "id": "f712e3ce",
   "metadata": {},
   "outputs": [
    {
     "name": "stderr",
     "output_type": "stream",
     "text": [
      "\u001b[32mComputing mixed cells... 2    Time: 0:00:00\u001b[39m\u001b[K\n",
      "\u001b[32mComputing mixed cells... 3    Time: 0:00:00\u001b[39m\u001b[K\n",
      "\u001b[34m   mixed_volume: 18\u001b[39m\u001b[K\n"
     ]
    },
    {
     "name": "stdout",
     "output_type": "stream",
     "text": [
      "\u001b[32mTracking 18 paths...  11%|████                          |  ETA: 0:01:14\u001b[39m\u001b[K\n",
      "\n",
      "\n",
      "\n",
      "\u001b[32mTracking 18 paths... 100%|██████████████████████████████| Time: 0:00:09\u001b[39m\u001b[K\n",
      "\u001b[34m                   # paths tracked: 18\u001b[39m\u001b[K\n",
      "\u001b[34m   # non-singular solutions (real): 18 (4)\u001b[39m\u001b[K\n",
      "\u001b[34m       # singular endpoints (real): 0 (0)\u001b[39m\u001b[K\n",
      "\u001b[34m          # total solutions (real): 18 (4)\u001b[39m\u001b[K\n",
      "Result with 18 solutions\n",
      "========================\n",
      "• 18 paths tracked\n",
      "• 18 non-singular solutions (4 real)\n",
      "• random_seed: 0x3a9e596e\n",
      "• start_system: :polyhedral\n"
     ]
    }
   ],
   "source": [
    "# load the package\n",
    "using HomotopyContinuation\n",
    "# declare variables x and y\n",
    "@var x y\n",
    "# define the polynomials\n",
    "f₁ = (x^4 + y^4 - 1) * (x^2 + y^2 - 2) + x^5 * y\n",
    "f₂ = x^2+2x*y^2 - 2y^2 - 1/2\n",
    "F = System([f₁, f₂])\n",
    "result = solve(F)\n",
    "print(result)"
   ]
  },
  {
   "cell_type": "code",
   "execution_count": 2,
   "id": "2e47b489",
   "metadata": {},
   "outputs": [
    {
     "data": {
      "text/plain": [
       "4-element Vector{Vector{Float64}}:\n",
       " [-0.93689796679633, 0.31228408173860106]\n",
       " [-1.671421392838003, 0.6552051858720408]\n",
       " [0.8999179208471727, -1.2441827613422727]\n",
       " [0.8209788924342627, -0.697132645948946]"
      ]
     },
     "metadata": {},
     "output_type": "display_data"
    }
   ],
   "source": [
    "real_solutions(result)"
   ]
  },
  {
   "cell_type": "code",
   "execution_count": 4,
   "id": "5ba0832e",
   "metadata": {},
   "outputs": [
    {
     "name": "stderr",
     "output_type": "stream",
     "text": [
      "\u001b[32m◐ Computing regions...    Time: 0:00:01\u001b[39m\u001b[K"
     ]
    },
    {
     "name": "stdout",
     "output_type": "stream",
     "text": [
      "\u001b[32m\n",
      "\n",
      "\n",
      "Computing critical points:\n",
      " \n"
     ]
    },
    {
     "name": "stderr",
     "output_type": "stream",
     "text": [
      "\n",
      "\u001b[32m◓ Computing regions...    Time: 0:00:26\u001b[39m\u001b[K\n",
      "\n",
      "\u001b[32m◑ Computing regions...    Time: 0:00:27\u001b[39m\u001b[K\n",
      "\n",
      "\n",
      "\u001b[32m✓ Computing regions...    Time: 0:00:27\u001b[39m\u001b[K\n"
     ]
    },
    {
     "data": {
      "text/plain": [
       "RegionsResult with 12 regions:\n",
       "==============================\n",
       "46 complex critical points\n",
       "20 real critical points\n"
      ]
     },
     "metadata": {},
     "output_type": "display_data"
    },
    {
     "name": "stdout",
     "output_type": "stream",
     "text": [
      "╭──────────────┬──────────────────────────╮\n",
      "│\u001b[32m sign pattern \u001b[0m│\u001b[32m regions                  \u001b[0m│\n",
      "├──────────────┼──────────────────────────┤\n",
      "│ - + + -      │ number = 1               │\n",
      "│              │  χ = 0, μ = [1, 1, 0, 0] │\n",
      "│ + - - +      │ number = 1               │\n",
      "│              │  χ = 0, μ = [1, 1, 0, 0] │\n",
      "│ + - - -      │ number = 1               │\n",
      "│              │  χ = 1, μ = [1, 0, 0, 0] │\n",
      "│ + + - +      │ number = 1               │\n",
      "│              │  χ = 0, μ = [1, 1, 0, 0] │\n",
      "│ + + - -      │ number = 1               │\n",
      "│              │  χ = 1, μ = [1, 0, 0, 0] │\n",
      "│ + + + +      │ number = 1               │\n",
      "│              │  χ = 0, μ = [1, 1, 0, 0] │\n",
      "│ - - - +      │ number = 1               │\n",
      "│              │  χ = 0, μ = [1, 1, 0, 0] │\n",
      "│ + + + -      │ number = 1               │\n",
      "│              │  χ = 0, μ = [1, 1, 0, 0] │\n",
      "│ - - - -      │ number = 1               │\n",
      "│              │  χ = 1, μ = [1, 0, 0, 0] │\n",
      "│ - - + +      │ number = 1               │\n",
      "│              │  χ = 0, μ = [1, 1, 0, 0] │\n",
      "│ - - + -      │ number = 1               │\n",
      "│              │  χ = 1, μ = [1, 0, 0, 0] │\n",
      "│ - + + +      │ number = 1               │\n",
      "│              │  χ = 0, μ = [1, 1, 0, 0] │\n",
      "╰──────────────┴──────────────────────────╯\n"
     ]
    }
   ],
   "source": [
    "using HypersurfaceRegions\n",
    " @var x y z\n",
    "f = [z, x^2 + y^2 - 1 + z, x^2 + y^2 - 1 - z, x^2 + y^2 - 1/4 - 3/2*z^2]\n",
    "regions(f) # doesn't work !!"
   ]
  }
 ],
 "metadata": {
  "kernelspec": {
   "display_name": "Julia 1.11.5",
   "language": "julia",
   "name": "julia-1.11"
  },
  "language_info": {
   "file_extension": ".jl",
   "mimetype": "application/julia",
   "name": "julia",
   "version": "1.11.5"
  }
 },
 "nbformat": 4,
 "nbformat_minor": 5
}
